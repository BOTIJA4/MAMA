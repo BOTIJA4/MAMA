{
  "nbformat": 4,
  "nbformat_minor": 0,
  "metadata": {
    "colab": {
      "provenance": [],
      "toc_visible": true,
      "authorship_tag": "ABX9TyPfqINpPdrTlMXHMsCCwvgA",
      "include_colab_link": true
    },
    "kernelspec": {
      "name": "python3",
      "display_name": "Python 3"
    },
    "language_info": {
      "name": "python"
    }
  },
  "cells": [
    {
      "cell_type": "markdown",
      "metadata": {
        "id": "view-in-github",
        "colab_type": "text"
      },
      "source": [
        "<a href=\"https://colab.research.google.com/github/SamuelLlaiqui/Pyhton-Learning/blob/master/Pyhton_Learn_Tips_Numpy.ipynb\" target=\"_parent\"><img src=\"https://colab.research.google.com/assets/colab-badge.svg\" alt=\"Open In Colab\"/></a>"
      ]
    },
    {
      "cell_type": "code",
      "source": [
        "import numpy as np\n",
        "np.array([1,2,3,4,5])"
      ],
      "metadata": {
        "colab": {
          "base_uri": "https://localhost:8080/"
        },
        "id": "R0_TKfEUKTlf",
        "outputId": "321661d7-0117-4af3-c1fa-f45f01f7937d"
      },
      "execution_count": null,
      "outputs": [
        {
          "output_type": "execute_result",
          "data": {
            "text/plain": [
              "array([1, 2, 3, 4, 5])"
            ]
          },
          "metadata": {},
          "execution_count": 5
        }
      ]
    },
    {
      "cell_type": "code",
      "source": [
        "a = np.array([1,2,3,4,5])"
      ],
      "metadata": {
        "id": "WPgRLkc0KbCy"
      },
      "execution_count": null,
      "outputs": []
    },
    {
      "cell_type": "code",
      "source": [
        "a.size\n",
        "a.ndim\n",
        "a.shape"
      ],
      "metadata": {
        "colab": {
          "base_uri": "https://localhost:8080/"
        },
        "id": "4SZiYM5UKgUM",
        "outputId": "1167ab9a-8f11-4e9c-d318-74b779c25737"
      },
      "execution_count": null,
      "outputs": [
        {
          "output_type": "execute_result",
          "data": {
            "text/plain": [
              "(5,)"
            ]
          },
          "metadata": {},
          "execution_count": 12
        }
      ]
    },
    {
      "cell_type": "markdown",
      "source": [
        "# OPERACIONES"
      ],
      "metadata": {
        "id": "hCLx2c3HK80s"
      }
    },
    {
      "cell_type": "code",
      "source": [
        "b = np.array([1,2,3,4,5])\n",
        "a + b\n",
        "a- b"
      ],
      "metadata": {
        "colab": {
          "base_uri": "https://localhost:8080/"
        },
        "id": "_MR8PnbfLIM4",
        "outputId": "46760025-ad3a-4bd0-9d40-7bade36c9980"
      },
      "execution_count": null,
      "outputs": [
        {
          "output_type": "execute_result",
          "data": {
            "text/plain": [
              "array([0, 0, 0, 0, 0])"
            ]
          },
          "metadata": {},
          "execution_count": 15
        }
      ]
    },
    {
      "cell_type": "code",
      "source": [
        "a.dtype"
      ],
      "metadata": {
        "colab": {
          "base_uri": "https://localhost:8080/"
        },
        "id": "8Et4RAxoLjAL",
        "outputId": "b06b5c95-11dc-4498-e733-7ba0af0e0457"
      },
      "execution_count": null,
      "outputs": [
        {
          "output_type": "execute_result",
          "data": {
            "text/plain": [
              "dtype('int64')"
            ]
          },
          "metadata": {},
          "execution_count": 16
        }
      ]
    },
    {
      "cell_type": "code",
      "source": [
        "a = np.array([1,2,3,4,5], dtype = float)\n",
        "a"
      ],
      "metadata": {
        "colab": {
          "base_uri": "https://localhost:8080/"
        },
        "id": "jMdqZTOyLvhV",
        "outputId": "87161864-a770-4bca-cd2d-3dcad53be51b"
      },
      "execution_count": null,
      "outputs": [
        {
          "output_type": "execute_result",
          "data": {
            "text/plain": [
              "array([1., 2., 3., 4., 5.])"
            ]
          },
          "metadata": {},
          "execution_count": 21
        }
      ]
    },
    {
      "cell_type": "code",
      "source": [
        "a = np.array([1,2,3,4,5], dtype = bool)\n",
        "a"
      ],
      "metadata": {
        "colab": {
          "base_uri": "https://localhost:8080/"
        },
        "id": "fN1D4hB_PMB7",
        "outputId": "f429d1b6-03d6-4840-81d8-cf4b9bcf7435"
      },
      "execution_count": null,
      "outputs": [
        {
          "output_type": "execute_result",
          "data": {
            "text/plain": [
              "array([ True,  True,  True,  True,  True])"
            ]
          },
          "metadata": {},
          "execution_count": 22
        }
      ]
    },
    {
      "cell_type": "code",
      "source": [
        "a = np.array([1,2,3,4,5], dtype = complex)\n",
        "a"
      ],
      "metadata": {
        "colab": {
          "base_uri": "https://localhost:8080/"
        },
        "id": "jxmtuVfyPO_u",
        "outputId": "99b9bd71-86fa-42b3-b13f-8315761c3ff2"
      },
      "execution_count": null,
      "outputs": [
        {
          "output_type": "execute_result",
          "data": {
            "text/plain": [
              "array([1.+0.j, 2.+0.j, 3.+0.j, 4.+0.j, 5.+0.j])"
            ]
          },
          "metadata": {},
          "execution_count": 23
        }
      ]
    },
    {
      "cell_type": "code",
      "source": [
        "a = np.array([1,2,3,4,5], dtype = str)\n",
        "a"
      ],
      "metadata": {
        "colab": {
          "base_uri": "https://localhost:8080/"
        },
        "id": "dhjTqsO5PS28",
        "outputId": "c434b11b-18c4-4c6c-890f-99ac3bfe26b2"
      },
      "execution_count": null,
      "outputs": [
        {
          "output_type": "execute_result",
          "data": {
            "text/plain": [
              "array(['1', '2', '3', '4', '5'], dtype='<U1')"
            ]
          },
          "metadata": {},
          "execution_count": 24
        }
      ]
    },
    {
      "cell_type": "code",
      "source": [
        "np.arange(0,10)"
      ],
      "metadata": {
        "colab": {
          "base_uri": "https://localhost:8080/"
        },
        "id": "TpNNKwhNPmrW",
        "outputId": "3790f87f-5622-475c-a27f-7d309fa18619"
      },
      "execution_count": null,
      "outputs": [
        {
          "output_type": "execute_result",
          "data": {
            "text/plain": [
              "array([0, 1, 2, 3, 4, 5, 6, 7, 8, 9])"
            ]
          },
          "metadata": {},
          "execution_count": 26
        }
      ]
    },
    {
      "cell_type": "code",
      "source": [
        "np.arange(1,5, dtype = float)"
      ],
      "metadata": {
        "colab": {
          "base_uri": "https://localhost:8080/"
        },
        "id": "Pg8NTA_eP2V5",
        "outputId": "a630888a-6241-4ef0-95ab-af43bdd33338"
      },
      "execution_count": null,
      "outputs": [
        {
          "output_type": "execute_result",
          "data": {
            "text/plain": [
              "array([1., 2., 3., 4.])"
            ]
          },
          "metadata": {},
          "execution_count": 30
        }
      ]
    },
    {
      "cell_type": "code",
      "source": [
        "np.zeros(10, dtype = str)"
      ],
      "metadata": {
        "colab": {
          "base_uri": "https://localhost:8080/"
        },
        "id": "_XqbiRZaQ2sT",
        "outputId": "bd118da0-946b-48a4-aabc-15ca73bd7ba7"
      },
      "execution_count": null,
      "outputs": [
        {
          "output_type": "execute_result",
          "data": {
            "text/plain": [
              "array(['', '', '', '', '', '', '', '', '', ''], dtype='<U1')"
            ]
          },
          "metadata": {},
          "execution_count": 33
        }
      ]
    },
    {
      "cell_type": "code",
      "source": [
        "np.ones(9)"
      ],
      "metadata": {
        "colab": {
          "base_uri": "https://localhost:8080/"
        },
        "id": "8axZlXd2RXyV",
        "outputId": "964adff8-4e44-444a-c9f6-cfc68998a71b"
      },
      "execution_count": null,
      "outputs": [
        {
          "output_type": "execute_result",
          "data": {
            "text/plain": [
              "array([1., 1., 1., 1., 1., 1., 1., 1., 1.])"
            ]
          },
          "metadata": {},
          "execution_count": 35
        }
      ]
    },
    {
      "cell_type": "code",
      "source": [
        "np.random.randint(0,100,88)"
      ],
      "metadata": {
        "colab": {
          "base_uri": "https://localhost:8080/"
        },
        "id": "6FoGiL3rRo18",
        "outputId": "87bb178d-fd25-4345-fc18-6e4370e9a145"
      },
      "execution_count": null,
      "outputs": [
        {
          "output_type": "execute_result",
          "data": {
            "text/plain": [
              "array([29, 30, 90, 12, 16, 47, 19, 33, 74, 11, 28, 22, 14, 86, 44, 31, 60,\n",
              "       14, 77, 64, 22, 56, 60, 87, 44, 70, 40, 39, 56, 65, 79, 92, 27, 58,\n",
              "       15, 22, 77, 79, 91, 68, 50, 31, 53, 38, 96, 90, 68, 67, 43, 43, 80,\n",
              "       70,  2, 16, 73, 97, 47,  6, 44, 87, 77, 56, 55,  6, 39, 59, 65, 39,\n",
              "       52, 79, 21, 67, 15, 18, 29, 18, 19, 46, 18, 95, 36, 62, 28, 78, 76,\n",
              "        9, 66, 82])"
            ]
          },
          "metadata": {},
          "execution_count": 37
        }
      ]
    },
    {
      "cell_type": "code",
      "source": [
        "a = np.random.randint(0,10,10)\n",
        "a"
      ],
      "metadata": {
        "colab": {
          "base_uri": "https://localhost:8080/"
        },
        "id": "kDyZq0nJSLWV",
        "outputId": "fcede18c-779f-4c06-f3c1-4ad269d3c06e"
      },
      "execution_count": null,
      "outputs": [
        {
          "output_type": "execute_result",
          "data": {
            "text/plain": [
              "array([9, 7, 5, 3, 2, 5, 7, 3, 2, 6])"
            ]
          },
          "metadata": {},
          "execution_count": 48
        }
      ]
    },
    {
      "cell_type": "code",
      "source": [
        "a[0:5]"
      ],
      "metadata": {
        "colab": {
          "base_uri": "https://localhost:8080/"
        },
        "id": "2AIEfpvYTl7v",
        "outputId": "4ebb1cb7-cf91-4794-e4ca-03702b475d43"
      },
      "execution_count": null,
      "outputs": [
        {
          "output_type": "execute_result",
          "data": {
            "text/plain": [
              "array([9, 7, 5, 3, 2])"
            ]
          },
          "metadata": {},
          "execution_count": 49
        }
      ]
    },
    {
      "cell_type": "markdown",
      "source": [
        "# SUBARREGLOS"
      ],
      "metadata": {
        "id": "D9F9H3SkUHYF"
      }
    },
    {
      "cell_type": "code",
      "source": [
        "a = np.random.randint(0,10,4)\n",
        "a"
      ],
      "metadata": {
        "colab": {
          "base_uri": "https://localhost:8080/"
        },
        "id": "tl0X-1oJUKhr",
        "outputId": "883239f8-239d-4ea3-d4da-1567eef90ee5"
      },
      "execution_count": null,
      "outputs": [
        {
          "output_type": "execute_result",
          "data": {
            "text/plain": [
              "array([3, 8, 8, 5])"
            ]
          },
          "metadata": {},
          "execution_count": 63
        }
      ]
    },
    {
      "cell_type": "code",
      "source": [
        "a[0::3]\n",
        "# Recordar que a[Start:End:Salto]"
      ],
      "metadata": {
        "colab": {
          "base_uri": "https://localhost:8080/"
        },
        "id": "WZla8aIKUkUL",
        "outputId": "55442234-ed0b-4982-d1ae-648b1a8e4068"
      },
      "execution_count": null,
      "outputs": [
        {
          "output_type": "execute_result",
          "data": {
            "text/plain": [
              "array([1, 5, 1, 0, 0, 1, 4, 2, 8, 1])"
            ]
          },
          "metadata": {},
          "execution_count": 59
        }
      ]
    },
    {
      "cell_type": "code",
      "source": [
        "a[[0,1,2]]  #Para buscar varios elmentos en un array"
      ],
      "metadata": {
        "colab": {
          "base_uri": "https://localhost:8080/"
        },
        "id": "KMyJ4oyWVpCc",
        "outputId": "31fcd119-a664-433f-f8f2-267a07277667"
      },
      "execution_count": null,
      "outputs": [
        {
          "output_type": "execute_result",
          "data": {
            "text/plain": [
              "array([1, 1, 4])"
            ]
          },
          "metadata": {},
          "execution_count": 61
        }
      ]
    },
    {
      "cell_type": "code",
      "source": [
        "a[[True,True,False,True]]  #Tambien se puede calcular o hallar los numeros con codigos booleanos, y estos tiene que tener la misma cantidad"
      ],
      "metadata": {
        "colab": {
          "base_uri": "https://localhost:8080/"
        },
        "id": "pSHjiUoNWPYA",
        "outputId": "cd197005-9e6f-4e3a-8b9b-342c8d6bdab1"
      },
      "execution_count": null,
      "outputs": [
        {
          "output_type": "execute_result",
          "data": {
            "text/plain": [
              "array([3, 8, 5])"
            ]
          },
          "metadata": {},
          "execution_count": 64
        }
      ]
    },
    {
      "cell_type": "markdown",
      "source": [
        "# VECTORIZAR FUNCIONES"
      ],
      "metadata": {
        "id": "efsCZ7GPWv6V"
      }
    },
    {
      "cell_type": "code",
      "source": [
        "a = np.random.randint(0,10,20)\n",
        "a"
      ],
      "metadata": {
        "colab": {
          "base_uri": "https://localhost:8080/"
        },
        "id": "Qe2R-IoPXAfp",
        "outputId": "329433eb-47a0-4bb1-8779-c844d6bafc6a"
      },
      "execution_count": null,
      "outputs": [
        {
          "output_type": "execute_result",
          "data": {
            "text/plain": [
              "array([1, 8, 9, 1, 8, 4, 0, 6, 5, 0, 9, 9, 0, 5, 7, 6, 2, 1, 3, 6])"
            ]
          },
          "metadata": {},
          "execution_count": 66
        }
      ]
    },
    {
      "cell_type": "code",
      "source": [
        "def operacion(valor):\n",
        "  return (valor ** 2) + 2"
      ],
      "metadata": {
        "id": "j8o9s1QbXHPD"
      },
      "execution_count": null,
      "outputs": []
    },
    {
      "cell_type": "code",
      "source": [
        "operacion(a)"
      ],
      "metadata": {
        "colab": {
          "base_uri": "https://localhost:8080/"
        },
        "id": "enSPAScOXOMi",
        "outputId": "0dc9fd34-36c1-4072-f22b-6057f6a2e777"
      },
      "execution_count": null,
      "outputs": [
        {
          "output_type": "execute_result",
          "data": {
            "text/plain": [
              "array([ 3, 66, 83,  3, 66, 18,  2, 38, 27,  2, 83, 83,  2, 27, 51, 38,  6,\n",
              "        3, 11, 38])"
            ]
          },
          "metadata": {},
          "execution_count": 71
        }
      ]
    },
    {
      "cell_type": "code",
      "source": [
        "vector = np.vectorize(operacion)\n",
        "np.vectorize?"
      ],
      "metadata": {
        "id": "vmA8IUc0ugJs"
      },
      "execution_count": null,
      "outputs": []
    },
    {
      "cell_type": "code",
      "source": [
        "vector(a)"
      ],
      "metadata": {
        "colab": {
          "base_uri": "https://localhost:8080/"
        },
        "id": "fnMYzMDXuN4t",
        "outputId": "e2edcc21-34d0-4c60-8c59-d12450329b73"
      },
      "execution_count": null,
      "outputs": [
        {
          "output_type": "execute_result",
          "data": {
            "text/plain": [
              "array([ 3, 66, 83,  3, 66, 18,  2, 38, 27,  2, 83, 83,  2, 27, 51, 38,  6,\n",
              "        3, 11, 38])"
            ]
          },
          "metadata": {},
          "execution_count": 75
        }
      ]
    },
    {
      "cell_type": "code",
      "source": [
        "operacion(a)"
      ],
      "metadata": {
        "colab": {
          "base_uri": "https://localhost:8080/"
        },
        "id": "8j7Ba6h8uuWN",
        "outputId": "fc273b13-66c8-497c-f669-85e773368de1"
      },
      "execution_count": null,
      "outputs": [
        {
          "output_type": "execute_result",
          "data": {
            "text/plain": [
              "array([ 3, 66, 83,  3, 66, 18,  2, 38, 27,  2, 83, 83,  2, 27, 51, 38,  6,\n",
              "        3, 11, 38])"
            ]
          },
          "metadata": {},
          "execution_count": 76
        }
      ]
    },
    {
      "cell_type": "markdown",
      "source": [
        "# COPIAS Y VISTAS\n",
        "Copias = Nuevo arreglo el cual fue creado a partir de otro, posse los mismos objetos\n",
        "\n",
        "\n",
        "Vistas = Una vista al arreglo original\n"
      ],
      "metadata": {
        "id": "3dWv3PPOvREV"
      }
    },
    {
      "cell_type": "code",
      "source": [
        "b = np.arange(0,10) #Arreglo original\n",
        "b"
      ],
      "metadata": {
        "colab": {
          "base_uri": "https://localhost:8080/"
        },
        "id": "AcJfLaK4vUnL",
        "outputId": "2656b128-8b9f-45f0-f4ba-91b6641263b4"
      },
      "execution_count": null,
      "outputs": [
        {
          "output_type": "execute_result",
          "data": {
            "text/plain": [
              "array([0, 1, 2, 3, 4, 5, 6, 7, 8, 9])"
            ]
          },
          "metadata": {},
          "execution_count": 83
        }
      ]
    },
    {
      "cell_type": "code",
      "source": [
        "b.copy()  #Copia"
      ],
      "metadata": {
        "colab": {
          "base_uri": "https://localhost:8080/"
        },
        "id": "P4TnkkdEv3Fw",
        "outputId": "a8235361-d7a1-4c45-a91e-fd655e522449"
      },
      "execution_count": null,
      "outputs": [
        {
          "output_type": "execute_result",
          "data": {
            "text/plain": [
              "array([0, 1, 2, 3, 4, 5, 6, 7, 8, 9])"
            ]
          },
          "metadata": {},
          "execution_count": 85
        }
      ]
    },
    {
      "cell_type": "code",
      "source": [
        "a = b.copy()\n",
        "print(id(a.base))\n",
        "print(id(b))    #Ambos Id's son diferentes, por lo que es una copia"
      ],
      "metadata": {
        "colab": {
          "base_uri": "https://localhost:8080/"
        },
        "id": "OpGiCliKwA4k",
        "outputId": "93961e77-8125-41f4-cb46-6e3a80a2793c"
      },
      "execution_count": null,
      "outputs": [
        {
          "output_type": "stream",
          "name": "stdout",
          "text": [
            "101388607132640\n",
            "138367347517616\n"
          ]
        }
      ]
    },
    {
      "cell_type": "code",
      "source": [
        "a[1] = 12\n",
        "a"
      ],
      "metadata": {
        "colab": {
          "base_uri": "https://localhost:8080/"
        },
        "id": "WKXZrsfQwUSL",
        "outputId": "d1a11ab1-4c0f-4579-e12b-794943dfdd08"
      },
      "execution_count": null,
      "outputs": [
        {
          "output_type": "execute_result",
          "data": {
            "text/plain": [
              "array([ 0, 12,  2,  3,  4,  5,  6,  7,  8,  9])"
            ]
          },
          "metadata": {},
          "execution_count": 93
        }
      ]
    },
    {
      "cell_type": "code",
      "source": [
        "a.view()  #view"
      ],
      "metadata": {
        "colab": {
          "base_uri": "https://localhost:8080/"
        },
        "id": "ZdQ2oKaJwdpe",
        "outputId": "bdb7b548-a2c1-4277-f3ef-661b00e98df1"
      },
      "execution_count": null,
      "outputs": [
        {
          "output_type": "execute_result",
          "data": {
            "text/plain": [
              "array([ 0, 12,  2,  3,  4,  5,  6,  7,  8,  9])"
            ]
          },
          "metadata": {},
          "execution_count": 95
        }
      ]
    },
    {
      "cell_type": "code",
      "source": [
        "c = a.view()\n",
        "print(id(c.base))\n",
        "print(id(a))  #Ambos Id's son iguales, por lo que es una vista"
      ],
      "metadata": {
        "colab": {
          "base_uri": "https://localhost:8080/"
        },
        "id": "z6S_PeU6wkHO",
        "outputId": "99865a9e-069f-4649-e25f-5ad68988be8f"
      },
      "execution_count": null,
      "outputs": [
        {
          "output_type": "stream",
          "name": "stdout",
          "text": [
            "138367345663920\n",
            "138367345663920\n"
          ]
        }
      ]
    },
    {
      "cell_type": "code",
      "source": [
        "# Otra forma de hacer una view\n",
        "d = a[:]\n",
        "a is d.base"
      ],
      "metadata": {
        "colab": {
          "base_uri": "https://localhost:8080/"
        },
        "id": "eU87Bj_rxZFd",
        "outputId": "0e9de71c-1fca-43b6-bedc-084c9ffe289c"
      },
      "execution_count": null,
      "outputs": [
        {
          "output_type": "execute_result",
          "data": {
            "text/plain": [
              "True"
            ]
          },
          "metadata": {},
          "execution_count": 108
        }
      ]
    },
    {
      "cell_type": "markdown",
      "source": [
        "# ARREGLOS MULTIDIMENSIONALES"
      ],
      "metadata": {
        "id": "OrAoZuKqyWDD"
      }
    },
    {
      "cell_type": "code",
      "source": [
        "a = np.array([[1,2,3,4,5],\n",
        "              [3,5,3,1,2],\n",
        "              [6,4,12,3,4],\n",
        "              ])\n",
        "a"
      ],
      "metadata": {
        "colab": {
          "base_uri": "https://localhost:8080/"
        },
        "id": "hHTYzvViyZFW",
        "outputId": "89183f70-203f-49d6-8ada-0b72158b5cfb"
      },
      "execution_count": null,
      "outputs": [
        {
          "output_type": "execute_result",
          "data": {
            "text/plain": [
              "array([[ 1,  2,  3,  4,  5],\n",
              "       [ 3,  5,  3,  1,  2],\n",
              "       [ 6,  4, 12,  3,  4]])"
            ]
          },
          "metadata": {},
          "execution_count": 111
        }
      ]
    },
    {
      "cell_type": "code",
      "source": [
        "print(a.ndim)\n",
        "print(a.shape)   #Axis 0 = Fila  Axis 1 = Columna\n",
        "print(a.size)"
      ],
      "metadata": {
        "colab": {
          "base_uri": "https://localhost:8080/"
        },
        "id": "FXFPW8fQy6qA",
        "outputId": "f46e2959-055c-44c0-dd0e-e7b43db6cf8e"
      },
      "execution_count": null,
      "outputs": [
        {
          "output_type": "stream",
          "name": "stdout",
          "text": [
            "2\n",
            "(3, 5)\n",
            "15\n"
          ]
        }
      ]
    },
    {
      "cell_type": "code",
      "source": [
        "a[0][2]"
      ],
      "metadata": {
        "colab": {
          "base_uri": "https://localhost:8080/"
        },
        "id": "--aZXm5yzP8h",
        "outputId": "676d519e-d2dd-471d-fe2d-68e4ea504c69"
      },
      "execution_count": null,
      "outputs": [
        {
          "output_type": "execute_result",
          "data": {
            "text/plain": [
              "3"
            ]
          },
          "metadata": {},
          "execution_count": 115
        }
      ]
    },
    {
      "cell_type": "code",
      "source": [
        "a[0,[0,4]]"
      ],
      "metadata": {
        "colab": {
          "base_uri": "https://localhost:8080/"
        },
        "id": "XZaZOOmMznaH",
        "outputId": "f5a18a1e-05b6-442a-8a33-7296001455bb"
      },
      "execution_count": null,
      "outputs": [
        {
          "output_type": "execute_result",
          "data": {
            "text/plain": [
              "array([1, 5])"
            ]
          },
          "metadata": {},
          "execution_count": 124
        }
      ]
    },
    {
      "cell_type": "code",
      "source": [
        "a[:,3]"
      ],
      "metadata": {
        "colab": {
          "base_uri": "https://localhost:8080/"
        },
        "id": "rFY4zP5rzwPJ",
        "outputId": "d5e67ae3-d0ae-4827-81ca-e1fa8e9befd4"
      },
      "execution_count": null,
      "outputs": [
        {
          "output_type": "execute_result",
          "data": {
            "text/plain": [
              "array([4, 1, 3])"
            ]
          },
          "metadata": {},
          "execution_count": 126
        }
      ]
    },
    {
      "cell_type": "code",
      "source": [
        "a[[0,2],3]"
      ],
      "metadata": {
        "colab": {
          "base_uri": "https://localhost:8080/"
        },
        "id": "bnmMTfvk0iAS",
        "outputId": "49bd9336-8451-4cb0-cf06-25a5e8ae1b25"
      },
      "execution_count": null,
      "outputs": [
        {
          "output_type": "execute_result",
          "data": {
            "text/plain": [
              "array([4, 3])"
            ]
          },
          "metadata": {},
          "execution_count": 127
        }
      ]
    },
    {
      "cell_type": "markdown",
      "source": [
        "# METODOS DE AGREGACIÓN"
      ],
      "metadata": {
        "id": "DWdWONgT013W"
      }
    },
    {
      "cell_type": "code",
      "source": [
        "a"
      ],
      "metadata": {
        "colab": {
          "base_uri": "https://localhost:8080/"
        },
        "id": "8gHTJllw1HYB",
        "outputId": "62f65708-9999-4e93-bcb4-7c699fbd93f6"
      },
      "execution_count": null,
      "outputs": [
        {
          "output_type": "execute_result",
          "data": {
            "text/plain": [
              "array([[ 1,  2,  3,  4,  5],\n",
              "       [ 3,  5,  3,  1,  2],\n",
              "       [ 6,  4, 12,  3,  4]])"
            ]
          },
          "metadata": {},
          "execution_count": 129
        }
      ]
    },
    {
      "cell_type": "code",
      "source": [
        "a.std()    #Desviacion Éstandas"
      ],
      "metadata": {
        "colab": {
          "base_uri": "https://localhost:8080/"
        },
        "id": "UbkTf2BJ1MSs",
        "outputId": "7a0f5762-2ba3-47cf-d6bb-d28cab2cb25b"
      },
      "execution_count": null,
      "outputs": [
        {
          "output_type": "execute_result",
          "data": {
            "text/plain": [
              "2.578543947441829"
            ]
          },
          "metadata": {},
          "execution_count": 133
        }
      ]
    },
    {
      "cell_type": "code",
      "source": [
        "a.sum()     #Suma de todos los arregos del modelo"
      ],
      "metadata": {
        "colab": {
          "base_uri": "https://localhost:8080/"
        },
        "id": "zGXpzv3z1OsU",
        "outputId": "dd07a2b1-df12-45b8-df06-020bace16724"
      },
      "execution_count": null,
      "outputs": [
        {
          "output_type": "execute_result",
          "data": {
            "text/plain": [
              "58"
            ]
          },
          "metadata": {},
          "execution_count": 134
        }
      ]
    },
    {
      "cell_type": "code",
      "source": [
        "a.min()     #Calcula el valor minimo\n",
        "a.max()       #Calcula el maximo"
      ],
      "metadata": {
        "colab": {
          "base_uri": "https://localhost:8080/"
        },
        "id": "r_DYQcx21aI_",
        "outputId": "c4fb6651-914f-4785-907a-f9b458791636"
      },
      "execution_count": null,
      "outputs": [
        {
          "output_type": "execute_result",
          "data": {
            "text/plain": [
              "12"
            ]
          },
          "metadata": {},
          "execution_count": 136
        }
      ]
    },
    {
      "cell_type": "code",
      "source": [
        "a.mean()      #Promedio"
      ],
      "metadata": {
        "colab": {
          "base_uri": "https://localhost:8080/"
        },
        "id": "RD3bJBGY1hEv",
        "outputId": "03ce06b5-4edf-4c84-cb05-d52bc6ace433"
      },
      "execution_count": null,
      "outputs": [
        {
          "output_type": "execute_result",
          "data": {
            "text/plain": [
              "3.8666666666666667"
            ]
          },
          "metadata": {},
          "execution_count": 137
        }
      ]
    },
    {
      "cell_type": "code",
      "source": [
        "a[1].sum()"
      ],
      "metadata": {
        "colab": {
          "base_uri": "https://localhost:8080/"
        },
        "id": "DlfjuDiI1kLz",
        "outputId": "1822d469-b122-47c7-deb0-6517d1ccf0da"
      },
      "execution_count": null,
      "outputs": [
        {
          "output_type": "execute_result",
          "data": {
            "text/plain": [
              "14"
            ]
          },
          "metadata": {},
          "execution_count": 141
        }
      ]
    },
    {
      "cell_type": "code",
      "source": [
        "a[2].max()"
      ],
      "metadata": {
        "colab": {
          "base_uri": "https://localhost:8080/"
        },
        "id": "ZOrLsW0K2CBN",
        "outputId": "3d908bda-bded-45d5-aec2-61d2fcf317fc"
      },
      "execution_count": null,
      "outputs": [
        {
          "output_type": "execute_result",
          "data": {
            "text/plain": [
              "12"
            ]
          },
          "metadata": {},
          "execution_count": 143
        }
      ]
    },
    {
      "cell_type": "code",
      "source": [
        "a[:,2].mean()"
      ],
      "metadata": {
        "colab": {
          "base_uri": "https://localhost:8080/"
        },
        "id": "SeURaObQ2PxB",
        "outputId": "0fff364a-1a4c-4c33-8a0f-2bc83d5aea1d"
      },
      "execution_count": null,
      "outputs": [
        {
          "output_type": "execute_result",
          "data": {
            "text/plain": [
              "6.0"
            ]
          },
          "metadata": {},
          "execution_count": 145
        }
      ]
    },
    {
      "cell_type": "code",
      "source": [
        "# prompt: calculame el promedio para cada columna\n",
        "\n",
        "import numpy as np\n",
        "\n",
        "a = np.array([[1,2,3,4,5],\n",
        "              [3,5,3,1,2],\n",
        "              [6,4,12,3,4],\n",
        "              ])\n",
        "\n",
        "# Calculate the mean of each column\n",
        "column_means = np.mean(a, axis=0)\n",
        "\n",
        "column_means"
      ],
      "metadata": {
        "colab": {
          "base_uri": "https://localhost:8080/"
        },
        "id": "lRHiqMeJ2T29",
        "outputId": "b91880f8-4db5-4265-c6d7-085f70c9bc09"
      },
      "execution_count": null,
      "outputs": [
        {
          "output_type": "execute_result",
          "data": {
            "text/plain": [
              "array([3.33333333, 3.66666667, 6.        , 2.66666667, 3.66666667])"
            ]
          },
          "metadata": {},
          "execution_count": 150
        }
      ]
    },
    {
      "cell_type": "code",
      "source": [
        "# prompt: calculmae le promedio para la segunda fila\n",
        "\n",
        "import numpy as np\n",
        "\n",
        "a = np.array([[1,2,3,4,5],\n",
        "              [3,5,3,1,2],\n",
        "              [6,4,12,3,4],\n",
        "              ])\n",
        "\n",
        "# Calculate the mean of the second row (index 1)\n",
        "second_row_mean = np.mean(a[:,2])\n",
        "\n",
        "second_row_mean"
      ],
      "metadata": {
        "colab": {
          "base_uri": "https://localhost:8080/"
        },
        "id": "AMLMEy3U2vCC",
        "outputId": "7b346b9f-ad8b-47c4-a1e4-14d8c19a748b"
      },
      "execution_count": null,
      "outputs": [
        {
          "output_type": "execute_result",
          "data": {
            "text/plain": [
              "6.0"
            ]
          },
          "metadata": {},
          "execution_count": 152
        }
      ]
    },
    {
      "cell_type": "markdown",
      "source": [
        "# TRASPOSICION"
      ],
      "metadata": {
        "id": "FqoFmhyL3CHV"
      }
    },
    {
      "cell_type": "code",
      "source": [
        "a"
      ],
      "metadata": {
        "colab": {
          "base_uri": "https://localhost:8080/"
        },
        "id": "KSQA2wx73J9S",
        "outputId": "7cfeac28-8ac6-4aac-da92-378d11fb2333"
      },
      "execution_count": null,
      "outputs": [
        {
          "output_type": "execute_result",
          "data": {
            "text/plain": [
              "array([[ 1,  2,  3,  4,  5],\n",
              "       [ 3,  5,  3,  1,  2],\n",
              "       [ 6,  4, 12,  3,  4]])"
            ]
          },
          "metadata": {},
          "execution_count": 160
        }
      ]
    },
    {
      "cell_type": "code",
      "source": [
        "a.T"
      ],
      "metadata": {
        "colab": {
          "base_uri": "https://localhost:8080/"
        },
        "id": "7ha1230J3L6-",
        "outputId": "47a3d7d7-2c7e-45af-a4d9-79afc62aed7e"
      },
      "execution_count": null,
      "outputs": [
        {
          "output_type": "execute_result",
          "data": {
            "text/plain": [
              "array([[ 1,  3,  6],\n",
              "       [ 2,  5,  4],\n",
              "       [ 3,  3, 12],\n",
              "       [ 4,  1,  3],\n",
              "       [ 5,  2,  4]])"
            ]
          },
          "metadata": {},
          "execution_count": 157
        }
      ]
    },
    {
      "cell_type": "code",
      "source": [
        "a.size\n",
        "a.shape"
      ],
      "metadata": {
        "colab": {
          "base_uri": "https://localhost:8080/"
        },
        "id": "sx2obIkb3cGK",
        "outputId": "56368c38-1a18-41e0-bfc6-09177f43cb3a"
      },
      "execution_count": null,
      "outputs": [
        {
          "output_type": "execute_result",
          "data": {
            "text/plain": [
              "(3, 5)"
            ]
          },
          "metadata": {},
          "execution_count": 164
        }
      ]
    },
    {
      "cell_type": "markdown",
      "source": [
        "#  FILTROS Y CONDICIONES"
      ],
      "metadata": {
        "id": "swSvxFQK5GaU"
      }
    },
    {
      "cell_type": "code",
      "source": [
        "a = np.random.randint(0,100,50)\n",
        "a"
      ],
      "metadata": {
        "colab": {
          "base_uri": "https://localhost:8080/"
        },
        "id": "mYOR4g_M5Jnp",
        "outputId": "6c32b43f-f88b-436f-a63b-90ad5ee15f36"
      },
      "execution_count": null,
      "outputs": [
        {
          "output_type": "execute_result",
          "data": {
            "text/plain": [
              "array([12, 63, 71, 37, 14, 11, 92, 38, 46, 90, 30, 82, 95, 32, 55,  1, 78,\n",
              "       42, 82, 86, 85, 15, 22, 10,  7, 32, 64, 93, 76,  0, 54,  9, 69, 21,\n",
              "       85, 77, 94, 26, 71, 21, 69, 17, 80, 85, 37, 51, 27, 96,  3, 28])"
            ]
          },
          "metadata": {},
          "execution_count": 168
        }
      ]
    },
    {
      "cell_type": "code",
      "source": [
        "b = np.array(a > 50, dtype = int)\n",
        "b"
      ],
      "metadata": {
        "colab": {
          "base_uri": "https://localhost:8080/"
        },
        "id": "C_N52JQy5dp-",
        "outputId": "60958c62-9ca5-4955-af2f-5c859f26a0a3"
      },
      "execution_count": null,
      "outputs": [
        {
          "output_type": "execute_result",
          "data": {
            "text/plain": [
              "array([0, 1, 1, 0, 0, 0, 1, 0, 0, 1, 0, 1, 1, 0, 1, 0, 1, 0, 1, 1, 1, 0,\n",
              "       0, 0, 0, 0, 1, 1, 1, 0, 1, 0, 1, 0, 1, 1, 1, 0, 1, 0, 1, 0, 1, 1,\n",
              "       0, 1, 0, 1, 0, 0])"
            ]
          },
          "metadata": {},
          "execution_count": 173
        }
      ]
    },
    {
      "cell_type": "code",
      "source": [
        "a<50"
      ],
      "metadata": {
        "colab": {
          "base_uri": "https://localhost:8080/"
        },
        "id": "6nWF_S6f7P9G",
        "outputId": "9228c18c-f65b-461e-b4d4-9fc0c219d8a8"
      },
      "execution_count": null,
      "outputs": [
        {
          "output_type": "execute_result",
          "data": {
            "text/plain": [
              "array([ True, False, False,  True,  True,  True, False,  True,  True,\n",
              "       False,  True, False, False,  True, False,  True, False,  True,\n",
              "       False, False, False,  True,  True,  True,  True,  True, False,\n",
              "       False, False,  True, False,  True, False,  True, False, False,\n",
              "       False,  True, False,  True, False,  True, False, False,  True,\n",
              "       False,  True, False,  True,  True])"
            ]
          },
          "metadata": {},
          "execution_count": 183
        }
      ]
    },
    {
      "cell_type": "code",
      "source": [
        "a[a<50]"
      ],
      "metadata": {
        "colab": {
          "base_uri": "https://localhost:8080/"
        },
        "id": "dzznHAyJ6Oj6",
        "outputId": "8ecfe5b1-2e2f-441c-927e-22738db10354"
      },
      "execution_count": null,
      "outputs": [
        {
          "output_type": "execute_result",
          "data": {
            "text/plain": [
              "array([12, 37, 14, 11, 38, 46, 30, 32,  1, 42, 15, 22, 10,  7, 32,  0,  9,\n",
              "       21, 26, 21, 17, 37, 27,  3, 28])"
            ]
          },
          "metadata": {},
          "execution_count": 176
        }
      ]
    },
    {
      "cell_type": "code",
      "source": [
        "a[(a>50) & (a<90)]  #Siempre debe estar entre parentesis en caso haya 2 logicas"
      ],
      "metadata": {
        "colab": {
          "base_uri": "https://localhost:8080/"
        },
        "id": "CeD7tUOw6aIJ",
        "outputId": "6dcc6e2e-fbbc-492a-828b-5b1890864693"
      },
      "execution_count": null,
      "outputs": [
        {
          "output_type": "execute_result",
          "data": {
            "text/plain": [
              "array([63, 71, 82, 55, 78, 82, 86, 85, 64, 76, 54, 69, 85, 77, 71, 69, 80,\n",
              "       85, 51])"
            ]
          },
          "metadata": {},
          "execution_count": 182
        }
      ]
    },
    {
      "cell_type": "code",
      "source": [
        "a[(a==10)|(a==49)|(a<5)]"
      ],
      "metadata": {
        "colab": {
          "base_uri": "https://localhost:8080/"
        },
        "id": "Gl94SsV463Qy",
        "outputId": "a807b0d7-6479-44b9-9b76-8258cd850eef"
      },
      "execution_count": null,
      "outputs": [
        {
          "output_type": "execute_result",
          "data": {
            "text/plain": [
              "array([ 1, 10,  0,  3])"
            ]
          },
          "metadata": {},
          "execution_count": 185
        }
      ]
    },
    {
      "cell_type": "code",
      "source": [
        "np.all(a>50)    #Ejecuta que todos los elementos cumplan con la condicion, basta que uno no cumpla no, dara false"
      ],
      "metadata": {
        "colab": {
          "base_uri": "https://localhost:8080/"
        },
        "id": "y2Q0Zcu47icC",
        "outputId": "c5b2d5dc-a309-4777-ef48-ba8cd6d3451b"
      },
      "execution_count": null,
      "outputs": [
        {
          "output_type": "execute_result",
          "data": {
            "text/plain": [
              "False"
            ]
          },
          "metadata": {},
          "execution_count": 188
        }
      ]
    },
    {
      "cell_type": "code",
      "source": [
        "np.all(a>=0)"
      ],
      "metadata": {
        "colab": {
          "base_uri": "https://localhost:8080/"
        },
        "id": "OrjPZpFQ7uqu",
        "outputId": "98990b99-daef-444a-8772-c59bba2a3326"
      },
      "execution_count": null,
      "outputs": [
        {
          "output_type": "execute_result",
          "data": {
            "text/plain": [
              "True"
            ]
          },
          "metadata": {},
          "execution_count": 189
        }
      ]
    },
    {
      "cell_type": "code",
      "source": [
        "# prompt: calcula en caso, por lo menos 1 datos de la matriz a, es menor a 10\n",
        "\n",
        "import numpy as np\n",
        "\n",
        "a = np.array([[1,2,3,4,5],\n",
        "              [3,5,3,1,2],\n",
        "              [6,4,12,3,4],\n",
        "              ])\n",
        "\n",
        "# Check if at least one element in array 'a' is less than 10\n",
        "if np.any(a < 10):\n",
        "  print(\"At least one element in 'a' is less than 10\")\n",
        "else:\n",
        "  print(\"No element in 'a' is less than 10\")"
      ],
      "metadata": {
        "id": "Vpultvyj8C-c"
      },
      "execution_count": null,
      "outputs": []
    },
    {
      "cell_type": "markdown",
      "source": [],
      "metadata": {
        "id": "4wQZSQVM7XUH"
      }
    }
  ]
}